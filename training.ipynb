{
 "cells": [
  {
   "cell_type": "code",
   "execution_count": 1,
   "id": "f146bc70",
   "metadata": {},
   "outputs": [],
   "source": [
    "%matplotlib inline\n",
    "import matplotlib\n",
    "import matplotlib.pyplot as plt\n",
    "\n",
    "import numpy as np\n",
    "import random\n",
    "import statistics"
   ]
  },
  {
   "cell_type": "code",
   "execution_count": 2,
   "id": "0dc57dcd",
   "metadata": {},
   "outputs": [],
   "source": [
    "from collections import namedtuple, deque\n",
    "from itertools import count\n",
    "from PIL import Image"
   ]
  },
  {
   "cell_type": "code",
   "execution_count": 3,
   "id": "cc5547c1",
   "metadata": {},
   "outputs": [],
   "source": [
    "import torch\n",
    "import torch.nn as nn\n",
    "import torch.optim as optim\n",
    "import torch.nn.functional as F\n",
    "import torchvision.transforms as T"
   ]
  },
  {
   "cell_type": "code",
   "execution_count": 4,
   "id": "4f6978d1",
   "metadata": {},
   "outputs": [],
   "source": [
    "#from helpers import display_state\n",
    "def display_state(state):\n",
    "    fig, ax = plt.subplots(figsize=(1, 1))\n",
    "\n",
    "    colors = ['yellow','green']\n",
    "\n",
    "    color_indices = [0, 1]\n",
    "    colormap = matplotlib.colors.ListedColormap(colors)\n",
    "\n",
    "    ax.scatter([env.state[0], env.state[2]] , [env.state[1],env.state[3]], c=color_indices, cmap=colormap)"
   ]
  },
  {
   "cell_type": "code",
   "execution_count": 5,
   "id": "82192c10",
   "metadata": {},
   "outputs": [],
   "source": [
    "# correspondance id and string for the actions\n",
    "def decode_action(action):\n",
    "    if action == 0:\n",
    "        return 'up'\n",
    "    if action == 1:\n",
    "        return 'right'\n",
    "    if action == 2:\n",
    "        return 'down'\n",
    "    if action == 3:\n",
    "        return 'left'"
   ]
  },
  {
   "cell_type": "code",
   "execution_count": 6,
   "id": "11fbe2a1",
   "metadata": {},
   "outputs": [],
   "source": [
    "class Rewarder(nn.Module):\n",
    "    def __init__(self, num_hidden_units, input_dim):\n",
    "        super(Rewarder,self).__init__()\n",
    "        \n",
    "        #self.rewarder_net = nn.Sequential(\n",
    "        #    nn.Linear(input_dim, num_hidden_units),\n",
    "        #    nn.ReLU(),\n",
    "        #    nn.Linear(num_hidden_units,1)\n",
    "        #) \n",
    "        self.fc1 = nn.Linear(input_dim, 32)\n",
    "        self.fc2 = nn.Linear(32, 16)\n",
    "        self.fc3 = nn.Linear(16, 1)\n",
    "        \n",
    "    def forward(self, input_obs):\n",
    "        #return int(self.rewarder_net(input_obs))\n",
    "        x = F.relu(self.fc1(input_obs))\n",
    "        x = F.relu(self.fc2(x))\n",
    "        x = self.fc3(x)\n",
    "        return x\n",
    "    \n",
    "\n",
    "class Actor(nn.Module):\n",
    "    def __init__(self, num_actions, num_hidden_units, input_dim):\n",
    "        super(Actor,self).__init__()\n",
    "        \n",
    "        self.actor_net = nn.Sequential(\n",
    "            nn.Linear(input_dim, num_hidden_units),\n",
    "            nn.ReLU(),\n",
    "            nn.Linear(num_hidden_units,num_actions),\n",
    "            nn.Softmax(dim=0)\n",
    "        ) \n",
    "        \n",
    "        \n",
    "    def forward(self, input_obs):\n",
    "        return self.actor_net(input_obs)"
   ]
  },
  {
   "cell_type": "code",
   "execution_count": 7,
   "id": "c8f935f6",
   "metadata": {},
   "outputs": [],
   "source": [
    "class GridWorld():\n",
    "    def __init__(self):\n",
    "        self.state = self.init_state()\n",
    "        self.step_count = 0\n",
    "        \n",
    "    def init_state(self):\n",
    "        xs = random.sample(range(0,7),5)\n",
    "        ys = random.sample(range(0,7),5)\n",
    "        piece_pos = [xs[0], ys[0]]\n",
    "        players_pos = [xs[4], ys[4]]\n",
    "        positions = list(np.array([players_pos, piece_pos]).flatten())\n",
    "        return positions\n",
    "        \n",
    "    def reset(self):\n",
    "        self.state = self.init_state()\n",
    "        self.step_count = 0\n",
    "        \n",
    "    def step(self, action):\n",
    "        self.step_count += 1\n",
    "        \n",
    "        if (self.step_count == 0 % 10):\n",
    "            print('count: ', self.step_count)\n",
    "        \n",
    "        if action == 0: #up\n",
    "            self.state[1] += 1\n",
    "            \n",
    "        if action == 1: #right\n",
    "            self.state[0] += 1\n",
    "            \n",
    "        if action == 2: #down\n",
    "            self.state[1] -= 1\n",
    "            \n",
    "        if action == 3: #left\n",
    "            self.state[0] -= 1\n",
    "            \n",
    "        if (self.step_count >= 25) : # loss max step\n",
    "            self.reset()\n",
    "            # reward function\n",
    "            # with torch.no_grad():\n",
    "            #    reward = int(rewarder(torch.unsqueeze(self.state, 0), training=False)[0])\n",
    "            reward = int(rewarder(torch.Tensor(self.state).reshape(1,4)))\n",
    "            playing = False\n",
    "            \n",
    "            return reward, playing\n",
    "        \n",
    "        if (self.state[0] == self.state[2]) and (self.state[1] == self.state[3]): # win the game\n",
    "            playing = False\n",
    "            reward = 100\n",
    "            # reward learning model\n",
    "            # with torch.no_grad():\n",
    "            #    reward = int(rewarder(torch.unsqueeze(self.state, 0), training=False)[0])\n",
    "            self.reset()\n",
    "            return reward, playing\n",
    "        \n",
    "        playing = True\n",
    "\n",
    "        # reward function\n",
    "        #with torch.no_grad():\n",
    "        #    reward = int(rewarder(torch.unsqueeze(self.state, 0), training=False)[0])\n",
    "        reward = int(rewarder(torch.Tensor(self.state).reshape(1,4)))\n",
    "        \n",
    "        return reward, playing"
   ]
  },
  {
   "cell_type": "code",
   "execution_count": 8,
   "id": "8d2d32e3",
   "metadata": {},
   "outputs": [
    {
     "name": "stdout",
     "output_type": "stream",
     "text": [
      "State: [6, 0, 3, 1]\n",
      "Reward: 0\n",
      "State: [6, 1, 3, 1]\n"
     ]
    },
    {
     "data": {
      "image/png": "[encoded data removed]",
      "text/plain": [
       "<Figure size 100x100 with 1 Axes>"
      ]
     },
     "metadata": {},
     "output_type": "display_data"
    },
    {
     "data": {
      "image/png": "[encoded data removed]",
      "text/plain": [
       "<Figure size 100x100 with 1 Axes>"
      ]
     },
     "metadata": {},
     "output_type": "display_data"
    }
   ],
   "source": [
    "# test if the env and diffferents models\n",
    "rewarder = Rewarder(num_hidden_units = 32, input_dim = 4)\n",
    "agent = Actor(num_actions = 4, num_hidden_units = 32, input_dim = 4)\n",
    "\n",
    "env = GridWorld()\n",
    "print('State:', env.state)\n",
    "display_state(env.state)\n",
    "\n",
    "action_proba = agent(torch.Tensor(env.state).reshape(1,4))\n",
    "action_index = torch.argmax(action_proba)\n",
    "reward, playing = env.step(action_index)\n",
    "print('Reward:',reward)\n",
    "print('State:', env.state)\n",
    "display_state(env.state)"
   ]
  },
  {
   "cell_type": "code",
   "execution_count": 9,
   "id": "329857d2",
   "metadata": {},
   "outputs": [],
   "source": [
    "# one complete episode\n",
    "def step_episode(env, model_agent):\n",
    "    env.reset()\n",
    "    actions_proba_list = []\n",
    "    rewards = []\n",
    "    states = []\n",
    "    actions = []\n",
    "    playing = True\n",
    "    \n",
    "    while playing == True:\n",
    "        observation = torch.Tensor(env.state).reshape(1,4)\n",
    "        \n",
    "        # run model\n",
    "        action_proba = model_agent(observation)\n",
    "        action_index = torch.argmax(action_proba)\n",
    "        reward, playing = env.step(action_index)\n",
    "        \n",
    "        \n",
    "        # save the data\n",
    "        states.append(observation)\n",
    "        actions_proba_list.append(action_proba)\n",
    "        actions.append(action_index)\n",
    "        rewards.append(reward)\n",
    "        \n",
    "    return  states, actions_proba_list, actions, rewards"
   ]
  },
  {
   "cell_type": "code",
   "execution_count": 10,
   "id": "54a2e2a6",
   "metadata": {},
   "outputs": [],
   "source": [
    "# test step episode\n",
    "rewarder = Rewarder(num_hidden_units = 64, input_dim = 4)\n",
    "agent = Actor(num_actions = 4, num_hidden_units = 64, input_dim = 4)\n",
    "\n",
    "env = GridWorld()\n",
    "states, actions_proba_list, actions, rewards = step_episode(env,agent)"
   ]
  },
  {
   "cell_type": "code",
   "execution_count": 11,
   "id": "2656299a",
   "metadata": {},
   "outputs": [
    {
     "data": {
      "image/png": "[encoded data removed]",
      "text/plain": [
       "<Figure size 200x200 with 1 Axes>"
      ]
     },
     "metadata": {},
     "output_type": "display_data"
    }
   ],
   "source": [
    "# check if the reward are constant or not\n",
    "fig = plt.figure(figsize=(2, 2))\n",
    "plt.plot(rewards)\n",
    "plt.show()"
   ]
  },
  {
   "cell_type": "code",
   "execution_count": 12,
   "id": "0379afd8",
   "metadata": {},
   "outputs": [],
   "source": [
    "# display the comparaison for the human preference \n",
    "def compare(transition_idx, mystates, actions):\n",
    "    states = 0\n",
    "    d1xs = [mystates[transition_idx[0]][0][0], mystates[transition_idx[0]][0][2]]\n",
    "    d1ys = [mystates[transition_idx[0]][0][1], mystates[transition_idx[0]][0][3]]\n",
    "    d2xs = [mystates[transition_idx[1]][0][0], mystates[transition_idx[1]][0][2]]\n",
    "    d2ys = [mystates[transition_idx[1]][0][1], mystates[transition_idx[1]][0][3]]\n",
    "\n",
    "    fig, ax = plt.subplots(1,2, figsize=(4, 2))\n",
    "    colors = ['yellow','green']\n",
    "    color_indices = [0, 1, ]\n",
    "    colormap = matplotlib.colors.ListedColormap(colors)\n",
    "    ax[0].scatter(d1xs, d1ys, c=color_indices, cmap=colormap)\n",
    "    ax[0].set_title(str(decode_action(actions[transition_idx[0]].numpy())))\n",
    "    ax[1].scatter(d2xs, d2ys, c=color_indices, cmap=colormap)\n",
    "    ax[1].set_title(str(decode_action(actions[transition_idx[1]].numpy())))\n",
    "    plt.show()"
   ]
  },
  {
   "cell_type": "code",
   "execution_count": 13,
   "id": "a52c3c4e",
   "metadata": {},
   "outputs": [],
   "source": [
    "# Define the loss function\n",
    "def preference_loss(reward_1, reward_2, dist):\n",
    "    p1 = torch.exp(reward_1) / (torch.exp(reward_1) + torch.exp(reward_2))\n",
    "    p2 = torch.exp(reward_2) / (torch.exp(reward_1) + torch.exp(reward_2))\n",
    "    loss = - (p1*dist[0] + p2*dist[1])\n",
    "    return loss"
   ]
  },
  {
   "cell_type": "code",
   "execution_count": 14,
   "id": "cc52552c",
   "metadata": {},
   "outputs": [],
   "source": [
    "# function for asking the preference at the human at the end of an episode\n",
    "def preference_update( states, actions, rewarder):\n",
    "    transition_idx = random.sample(range(len(states)),2)\n",
    "    #transition_samples = [states[transition_idx[0]], states[transition_idx[1]]]\n",
    "\n",
    "    compare(transition_idx, states, actions)\n",
    "    pref = input (' select preference a:left, d:right, s:same ')\n",
    "    if pref == 'a':\n",
    "        dist = [ 1, 0 ]\n",
    "    if pref == 'd':\n",
    "        dist = [ 0, 1 ]\n",
    "    if pref == 's':\n",
    "        dist = [ 1, 1 ]\n",
    "        \n",
    "    # stuff gradient\n",
    "    reward_1 = rewarder(states[transition_idx[0]][0])\n",
    "    reward_2 = rewarder(states[transition_idx[1]][0])\n",
    "    loss = preference_loss(reward_1, reward_2, dist)\n",
    "    # rewarder.rewarder_net.zero_grad()\n",
    "    print('rewards', reward_1, reward_2)\n",
    "    print(loss)\n",
    "    optimizer_rewarder.zero_grad()\n",
    "    loss.backward()\n",
    "    optimizer_rewarder.step()   "
   ]
  },
  {
   "cell_type": "code",
   "execution_count": 16,
   "id": "f3345574",
   "metadata": {},
   "outputs": [
    {
     "data": {
      "image/png": "[encoded data removed]",
      "text/plain": [
       "<Figure size 400x200 with 2 Axes>"
      ]
     },
     "metadata": {},
     "output_type": "display_data"
    },
    {
     "name": "stdout",
     "output_type": "stream",
     "text": [
      " select preference a:left, d:right, s:same a\n",
      "rewards tensor([0.0066], grad_fn=<AddBackward0>) tensor([-0.6976], grad_fn=<AddBackward0>)\n",
      "tensor([-0.6691], grad_fn=<NegBackward0>)\n"
     ]
    }
   ],
   "source": [
    "# test one episode with preference asking\n",
    "rewarder = Rewarder(num_hidden_units = 32, input_dim = 4)\n",
    "optimizer_rewarder = optim.Adam(rewarder.parameters(), lr=0.001)\n",
    "preference_update(states, actions, rewarder)"
   ]
  },
  {
   "cell_type": "code",
   "execution_count": 19,
   "id": "56ef48a4",
   "metadata": {},
   "outputs": [
    {
     "data": {
      "image/png": "[encoded data removed]",
      "text/plain": [
       "<Figure size 200x200 with 1 Axes>"
      ]
     },
     "metadata": {},
     "output_type": "display_data"
    },
    {
     "data": {
      "image/png": "[encoded data removed]",
      "text/plain": [
       "<Figure size 400x200 with 2 Axes>"
      ]
     },
     "metadata": {},
     "output_type": "display_data"
    },
    {
     "name": "stdout",
     "output_type": "stream",
     "text": [
      " select preference a:left, d:right, s:same d\n",
      "rewards tensor([-0.3489], grad_fn=<AddBackward0>) tensor([0.0656], grad_fn=<AddBackward0>)\n",
      "tensor([-0.6022], grad_fn=<NegBackward0>)\n"
     ]
    },
    {
     "data": {
      "image/png": "[encoded data removed]",
      "text/plain": [
       "<Figure size 200x200 with 1 Axes>"
      ]
     },
     "metadata": {},
     "output_type": "display_data"
    },
    {
     "data": {
      "image/png": "[encoded data removed]",
      "text/plain": [
       "<Figure size 400x200 with 2 Axes>"
      ]
     },
     "metadata": {},
     "output_type": "display_data"
    },
    {
     "name": "stdout",
     "output_type": "stream",
     "text": [
      " select preference a:left, d:right, s:same a\n",
      "rewards tensor([-0.7650], grad_fn=<AddBackward0>) tensor([-1.6829], grad_fn=<AddBackward0>)\n",
      "tensor([-0.7146], grad_fn=<NegBackward0>)\n"
     ]
    },
    {
     "data": {
      "image/png": "[encoded data removed]",
      "text/plain": [
       "<Figure size 200x200 with 1 Axes>"
      ]
     },
     "metadata": {},
     "output_type": "display_data"
    },
    {
     "data": {
      "image/png": "[encoded data removed]",
      "text/plain": [
       "<Figure size 400x200 with 2 Axes>"
      ]
     },
     "metadata": {},
     "output_type": "display_data"
    },
    {
     "name": "stdout",
     "output_type": "stream",
     "text": [
      " select preference a:left, d:right, s:same s\n",
      "rewards tensor([-0.1573], grad_fn=<AddBackward0>) tensor([-0.2995], grad_fn=<AddBackward0>)\n",
      "tensor([-1.], grad_fn=<NegBackward0>)\n"
     ]
    },
    {
     "data": {
      "image/png": "[encoded data removed]",
      "text/plain": [
       "<Figure size 200x200 with 1 Axes>"
      ]
     },
     "metadata": {},
     "output_type": "display_data"
    },
    {
     "data": {
      "image/png": "[encoded data removed]",
      "text/plain": [
       "<Figure size 400x200 with 2 Axes>"
      ]
     },
     "metadata": {},
     "output_type": "display_data"
    },
    {
     "name": "stdout",
     "output_type": "stream",
     "text": [
      " select preference a:left, d:right, s:same a\n",
      "rewards tensor([-0.1882], grad_fn=<AddBackward0>) tensor([-0.7781], grad_fn=<AddBackward0>)\n",
      "tensor([-0.6433], grad_fn=<NegBackward0>)\n"
     ]
    }
   ],
   "source": [
    "episodes = 4\n",
    "rewarder = Rewarder(num_hidden_units = 32, input_dim = 4)\n",
    "optimizer_rewarder = optim.Adam(rewarder.parameters(), lr=0.001)\n",
    "env = GridWorld()\n",
    "for episode in range(episodes):\n",
    "    states, actions_proba_list, actions, rewards = step_episode(env,agent)\n",
    "    # check if the reward are constant or not\n",
    "    fig = plt.figure(figsize=(2, 2))\n",
    "    plt.plot(rewards)\n",
    "    plt.show()\n",
    "    preference_update(states, actions, rewarder)"
   ]
  },
  {
   "cell_type": "code",
   "execution_count": null,
   "id": "824d9ff2",
   "metadata": {},
   "outputs": [],
   "source": []
  }
 ],
 "metadata": {
  "kernelspec": {
   "display_name": "Python 3 (ipykernel)",
   "language": "python",
   "name": "python3"
  },
  "language_info": {
   "codemirror_mode": {
    "name": "ipython",
    "version": 3
   },
   "file_extension": ".py",
   "mimetype": "text/x-python",
   "name": "python",
   "nbconvert_exporter": "python",
   "pygments_lexer": "ipython3",
   "version": "3.8.16"
  }
 },
 "nbformat": 4,
 "nbformat_minor": 5
}
