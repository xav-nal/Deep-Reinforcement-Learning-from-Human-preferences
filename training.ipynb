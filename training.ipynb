{
 "cells": [
  {
   "cell_type": "code",
   "execution_count": 40,
   "id": "f146bc70",
   "metadata": {},
   "outputs": [],
   "source": [
    "%matplotlib inline\n",
    "import matplotlib\n",
    "import matplotlib.pyplot as plt\n",
    "\n",
    "import numpy as np\n",
    "import random\n",
    "import statistics"
   ]
  },
  {
   "cell_type": "code",
   "execution_count": 41,
   "id": "0dc57dcd",
   "metadata": {},
   "outputs": [],
   "source": [
    "from collections import namedtuple, deque\n",
    "from itertools import count\n",
    "from PIL import Image"
   ]
  },
  {
   "cell_type": "code",
   "execution_count": 42,
   "id": "cc5547c1",
   "metadata": {},
   "outputs": [],
   "source": [
    "import torch\n",
    "import torch.nn as nn\n",
    "import torch.optim as optim\n",
    "import torch.nn.functional as F\n",
    "import torchvision.transforms as T"
   ]
  },
  {
   "cell_type": "code",
   "execution_count": 43,
   "id": "4f6978d1",
   "metadata": {},
   "outputs": [],
   "source": [
    "#from helpers import display_state\n",
    "def display_state(state):\n",
    "    fig, ax = plt.subplots(figsize=(1, 1))\n",
    "\n",
    "    colors = ['yellow','green']\n",
    "\n",
    "    color_indices = [0, 1]\n",
    "    colormap = matplotlib.colors.ListedColormap(colors)\n",
    "\n",
    "    ax.scatter([env.state[0], env.state[2]] , [env.state[1],env.state[3]], c=color_indices, cmap=colormap)"
   ]
  },
  {
   "cell_type": "code",
   "execution_count": 44,
   "id": "11fbe2a1",
   "metadata": {},
   "outputs": [],
   "source": [
    "class Rewarder(nn.Module):\n",
    "    def __init__(self, num_hidden_units, input_dim):\n",
    "        super(Rewarder,self).__init__()\n",
    "        \n",
    "        self.rewarder_net = nn.Sequential(\n",
    "            nn.Linear(input_dim, num_hidden_units),\n",
    "            nn.ReLU(),\n",
    "            nn.Linear(num_hidden_units,1)\n",
    "        ) \n",
    "        \n",
    "    def forward(self, input_obs):\n",
    "        return int(self.rewarder_net(input_obs))\n",
    "    \n",
    "\n",
    "class Actor(nn.Module):\n",
    "    def __init__(self, num_actions, num_hidden_units, input_dim):\n",
    "        super(Actor,self).__init__()\n",
    "        \n",
    "        self.actor_net = nn.Sequential(\n",
    "            nn.Linear(input_dim, num_hidden_units),\n",
    "            nn.ReLU(),\n",
    "            nn.Linear(num_hidden_units,num_actions),\n",
    "            nn.Softmax(dim=0)\n",
    "        ) \n",
    "        \n",
    "        \n",
    "    def forward(self, input_obs):\n",
    "        return self.actor_net(input_obs)"
   ]
  },
  {
   "cell_type": "code",
   "execution_count": 48,
   "id": "c8f935f6",
   "metadata": {},
   "outputs": [],
   "source": [
    "class GridWorld():\n",
    "    def __init__(self):\n",
    "        self.state = self.init_state()\n",
    "        self.step_count = 0\n",
    "        \n",
    "    def init_state(self):\n",
    "        xs = random.sample(range(0,7),5)\n",
    "        ys = random.sample(range(0,7),5)\n",
    "        piece_pos = [xs[0], ys[0]]\n",
    "        players_pos = [xs[4], ys[4]]\n",
    "        positions = list(np.array([players_pos, piece_pos]).flatten())\n",
    "        return positions\n",
    "        \n",
    "    def reset(self):\n",
    "        self.state = self.init_state()\n",
    "        self.step_count = 0\n",
    "        \n",
    "    def step(self, action):\n",
    "        self.step_count += 1\n",
    "        \n",
    "        if (self.step_count == 0 % 10):\n",
    "            print('count: ', self.step_count)\n",
    "        \n",
    "        if action == 0: #up\n",
    "            self.state[1] += 1\n",
    "            \n",
    "        if action == 1: #right\n",
    "            self.state[0] += 1\n",
    "            \n",
    "        if action == 2: #down\n",
    "            self.state[1] -= 1\n",
    "            \n",
    "        if action == 3: #left\n",
    "            self.state[0] -= 1\n",
    "            \n",
    "        if (self.step_count >= 25) : # loss max step\n",
    "            self.reset()\n",
    "            # reward function\n",
    "            # with torch.no_grad():\n",
    "            #    reward = int(rewarder(torch.unsqueeze(self.state, 0), training=False)[0])\n",
    "            reward = int(rewarder(torch.Tensor(self.state).reshape(1,4)))\n",
    "            playing = False\n",
    "            \n",
    "            return reward, playing\n",
    "        \n",
    "        if (self.state[0] == self.state[2]) and (self.state[1] == self.state[3]): # win the game\n",
    "            playing = False\n",
    "            reward = 100\n",
    "            # reward learning model\n",
    "            # with torch.no_grad():\n",
    "            #    reward = int(rewarder(torch.unsqueeze(self.state, 0), training=False)[0])\n",
    "            self.reset()\n",
    "            return reward, playing\n",
    "        \n",
    "        playing = True\n",
    "\n",
    "        # reward function\n",
    "        #with torch.no_grad():\n",
    "        #    reward = int(rewarder(torch.unsqueeze(self.state, 0), training=False)[0])\n",
    "        reward = int(rewarder(torch.Tensor(self.state).reshape(1,4)))\n",
    "        \n",
    "        return reward, playing"
   ]
  },
  {
   "cell_type": "code",
   "execution_count": 34,
   "id": "8d2d32e3",
   "metadata": {},
   "outputs": [
    {
     "name": "stdout",
     "output_type": "stream",
     "text": [
      "State: [4, 6, 5, 3]\n",
      "Reward: 0\n",
      "State: [4, 7, 5, 3]\n"
     ]
    },
    {
     "data": {
      "image/png": "[encoded data removed]",
      "text/plain": [
       "<Figure size 100x100 with 1 Axes>"
      ]
     },
     "metadata": {},
     "output_type": "display_data"
    },
    {
     "data": {
      "image/png": "[encoded data removed]",
      "text/plain": [
       "<Figure size 100x100 with 1 Axes>"
      ]
     },
     "metadata": {},
     "output_type": "display_data"
    }
   ],
   "source": [
    "# test env \n",
    "rewarder = Rewarder(num_hidden_units = 64, input_dim = 4)\n",
    "optimizer_rewarder = optim.Adam(rewarder.rewarder_net.parameters(), lr = 1e-2)\n",
    "\n",
    "agent = Actor(num_actions = 4, num_hidden_units = 64, input_dim = 4)\n",
    "optimizer_actor = optim.Adam(agent.actor_net.parameters(), lr = 1e-2)\n",
    "\n",
    "criterion = nn.CrossEntropyLoss()\n",
    "\n",
    "\n",
    "env = GridWorld()\n",
    "print('State:', env.state)\n",
    "display_state(env.state)\n",
    "\n",
    "action_proba = agent(torch.Tensor(env.state).reshape(1,4))\n",
    "action_index = torch.argmax(action_proba)\n",
    "reward, playing = env.step(action_index)\n",
    "print('Reward:',reward)\n",
    "print('State:', env.state)\n",
    "display_state(env.state)"
   ]
  },
  {
   "cell_type": "code",
   "execution_count": 46,
   "id": "329857d2",
   "metadata": {},
   "outputs": [],
   "source": [
    "# one complete episode\n",
    "def step_episode(env, model_agent):\n",
    "    env.reset()\n",
    "    actions_proba_list = []\n",
    "    rewards = []\n",
    "    states = []\n",
    "    actions = []\n",
    "    playing = True\n",
    "    \n",
    "    while playing == True:\n",
    "        observation = torch.Tensor(env.state).reshape(1,4)\n",
    "        \n",
    "        # run model\n",
    "        action_proba = model_agent(observation)\n",
    "        action_index = torch.argmax(action_proba)\n",
    "        reward, playing = env.step(action_index)\n",
    "        \n",
    "        \n",
    "        # save the data\n",
    "        states.append(observation)\n",
    "        actions_proba_list.append(action_proba)\n",
    "        actions.append(action_index)\n",
    "        rewards.append(reward)\n",
    "        \n",
    "    return  states, actions_proba_list, actions, rewards"
   ]
  },
  {
   "cell_type": "code",
   "execution_count": 51,
   "id": "54a2e2a6",
   "metadata": {},
   "outputs": [
    {
     "name": "stdout",
     "output_type": "stream",
     "text": [
      "State: [3, 1, 1, 4]\n"
     ]
    },
    {
     "data": {
      "image/png": "[encoded data removed]",
      "text/plain": [
       "<Figure size 100x100 with 1 Axes>"
      ]
     },
     "metadata": {},
     "output_type": "display_data"
    }
   ],
   "source": [
    "# test step episode\n",
    "rewarder = Rewarder(num_hidden_units = 64, input_dim = 4)\n",
    "optimizer_rewarder = optim.Adam(rewarder.rewarder_net.parameters(), lr = 1e-2)\n",
    "agent = Actor(num_actions = 4, num_hidden_units = 64, input_dim = 4)\n",
    "optimizer_actor = optim.Adam(agent.actor_net.parameters(), lr = 1e-2)\n",
    "\n",
    "criterion = nn.CrossEntropyLoss()\n",
    "\n",
    "\n",
    "env = GridWorld()\n",
    "print('State:', env.state)\n",
    "display_state(env.state)\n",
    "\n",
    "states, actions_proba_list, actions, rewards = step_episode(env,agent)"
   ]
  },
  {
   "cell_type": "code",
   "execution_count": 52,
   "id": "f605bc48",
   "metadata": {},
   "outputs": [
    {
     "data": {
      "image/png": "[encoded data removed]",
      "text/plain": [
       "<Figure size 100x100 with 1 Axes>"
      ]
     },
     "metadata": {},
     "output_type": "display_data"
    }
   ],
   "source": [
    "display_state(states[0])"
   ]
  },
  {
   "cell_type": "code",
   "execution_count": 65,
   "id": "2656299a",
   "metadata": {},
   "outputs": [
    {
     "data": {
      "image/png": "[encoded data removed]",
      "text/plain": [
       "<Figure size 200x200 with 1 Axes>"
      ]
     },
     "metadata": {},
     "output_type": "display_data"
    }
   ],
   "source": [
    "fig = plt.figure(figsize=(2, 2))\n",
    "plt.plot(rewards)\n",
    "plt.show()"
   ]
  },
  {
   "cell_type": "code",
   "execution_count": 69,
   "id": "c1a5ea16",
   "metadata": {},
   "outputs": [
    {
     "name": "stdout",
     "output_type": "stream",
     "text": [
      "[tensor([[1., 1., 2., 3.]]), tensor([[1., 2., 2., 3.]]), tensor([[1., 3., 2., 3.]]), tensor([[1., 4., 2., 3.]]), tensor([[1., 5., 2., 3.]]), tensor([[1., 6., 2., 3.]]), tensor([[1., 7., 2., 3.]]), tensor([[1., 8., 2., 3.]]), tensor([[1., 9., 2., 3.]]), tensor([[ 1., 10.,  2.,  3.]]), tensor([[ 1., 11.,  2.,  3.]]), tensor([[ 1., 12.,  2.,  3.]]), tensor([[ 1., 13.,  2.,  3.]]), tensor([[ 1., 14.,  2.,  3.]]), tensor([[ 1., 15.,  2.,  3.]]), tensor([[ 1., 16.,  2.,  3.]]), tensor([[ 1., 17.,  2.,  3.]]), tensor([[ 1., 18.,  2.,  3.]]), tensor([[ 1., 19.,  2.,  3.]]), tensor([[ 1., 20.,  2.,  3.]]), tensor([[ 1., 21.,  2.,  3.]]), tensor([[ 1., 22.,  2.,  3.]]), tensor([[ 1., 23.,  2.,  3.]]), tensor([[ 1., 24.,  2.,  3.]]), tensor([[ 1., 25.,  2.,  3.]])]\n"
     ]
    }
   ],
   "source": [
    "print(states)"
   ]
  },
  {
   "cell_type": "code",
   "execution_count": 78,
   "id": "5ecc0894",
   "metadata": {},
   "outputs": [
    {
     "name": "stdout",
     "output_type": "stream",
     "text": [
      "[9, 5]\n",
      "[tensor([[ 1., 10.,  2.,  3.]]), tensor([[1., 6., 2., 3.]])]\n"
     ]
    }
   ],
   "source": [
    "# comparaison\n",
    "\n",
    "transition_idx = random.sample(range(len(states)),2)\n",
    "transition_samples = [states[transition_idx[0]], states[transition_idx[1]]]\n",
    "\n",
    "print(transition_idx)\n",
    "print(transition_samples)"
   ]
  },
  {
   "cell_type": "code",
   "execution_count": 86,
   "id": "745ad8bd",
   "metadata": {},
   "outputs": [
    {
     "data": {
      "text/plain": [
       "tensor([1., 6., 2., 3.])"
      ]
     },
     "execution_count": 86,
     "metadata": {},
     "output_type": "execute_result"
    }
   ],
   "source": [
    "states[transition_idx[1]][0]"
   ]
  },
  {
   "cell_type": "code",
   "execution_count": 133,
   "id": "5acdd977",
   "metadata": {},
   "outputs": [],
   "source": [
    "# compare(transition_idx, states, actions)"
   ]
  },
  {
   "cell_type": "code",
   "execution_count": 132,
   "id": "19805d42",
   "metadata": {},
   "outputs": [
    {
     "data": {
      "image/png": "[encoded data removed]",
      "text/plain": [
       "<Figure size 400x200 with 2 Axes>"
      ]
     },
     "metadata": {},
     "output_type": "display_data"
    },
    {
     "name": "stdout",
     "output_type": "stream",
     "text": [
      " select preference a:left, d:right, s:same a\n"
     ]
    },
    {
     "ename": "TypeError",
     "evalue": "new() received an invalid combination of arguments - got (int, requires_grad=bool), but expected one of:\n * (*, torch.device device)\n      didn't match because some of the keywords were incorrect: requires_grad\n * (torch.Storage storage)\n * (Tensor other)\n * (tuple of ints size, *, torch.device device)\n * (object data, *, torch.device device)\n",
     "output_type": "error",
     "traceback": [
      "\u001b[1;31m---------------------------------------------------------------------------\u001b[0m",
      "\u001b[1;31mTypeError\u001b[0m                                 Traceback (most recent call last)",
      "Cell \u001b[1;32mIn[132], line 1\u001b[0m\n\u001b[1;32m----> 1\u001b[0m \u001b[43mpreference_update\u001b[49m\u001b[43m(\u001b[49m\u001b[43mstates\u001b[49m\u001b[43m,\u001b[49m\u001b[43m \u001b[49m\u001b[43mactions\u001b[49m\u001b[43m,\u001b[49m\u001b[43m \u001b[49m\u001b[43mrewarder\u001b[49m\u001b[43m)\u001b[49m\n",
      "Cell \u001b[1;32mIn[131], line 16\u001b[0m, in \u001b[0;36mpreference_update\u001b[1;34m(states, actions, rewarder)\u001b[0m\n\u001b[0;32m     13\u001b[0m     dist \u001b[38;5;241m=\u001b[39m [ \u001b[38;5;241m1\u001b[39m, \u001b[38;5;241m1\u001b[39m ]\n\u001b[0;32m     15\u001b[0m \u001b[38;5;66;03m# stuff gradient\u001b[39;00m\n\u001b[1;32m---> 16\u001b[0m reward_1 \u001b[38;5;241m=\u001b[39m \u001b[43mtorch\u001b[49m\u001b[38;5;241;43m.\u001b[39;49m\u001b[43mTensor\u001b[49m\u001b[43m(\u001b[49m\u001b[43mrewarder\u001b[49m\u001b[43m(\u001b[49m\u001b[43m(\u001b[49m\u001b[43mstates\u001b[49m\u001b[43m[\u001b[49m\u001b[43mtransition_idx\u001b[49m\u001b[43m[\u001b[49m\u001b[38;5;241;43m0\u001b[39;49m\u001b[43m]\u001b[49m\u001b[43m]\u001b[49m\u001b[43m[\u001b[49m\u001b[38;5;241;43m0\u001b[39;49m\u001b[43m]\u001b[49m\u001b[43m)\u001b[49m\u001b[38;5;241;43m.\u001b[39;49m\u001b[43mreshape\u001b[49m\u001b[43m(\u001b[49m\u001b[38;5;241;43m1\u001b[39;49m\u001b[43m,\u001b[49m\u001b[38;5;241;43m4\u001b[39;49m\u001b[43m)\u001b[49m\u001b[43m)\u001b[49m\u001b[43m,\u001b[49m\u001b[43m \u001b[49m\u001b[43mrequires_grad\u001b[49m\u001b[38;5;241;43m=\u001b[39;49m\u001b[38;5;28;43;01mTrue\u001b[39;49;00m\u001b[43m)\u001b[49m\n\u001b[0;32m     17\u001b[0m reward_2 \u001b[38;5;241m=\u001b[39m torch\u001b[38;5;241m.\u001b[39mTensor(rewarder((states[transition_idx[\u001b[38;5;241m1\u001b[39m]][\u001b[38;5;241m0\u001b[39m])\u001b[38;5;241m.\u001b[39mreshape(\u001b[38;5;241m1\u001b[39m,\u001b[38;5;241m4\u001b[39m)), requires_grad\u001b[38;5;241m=\u001b[39m\u001b[38;5;28;01mTrue\u001b[39;00m)\n\u001b[0;32m     18\u001b[0m p1 \u001b[38;5;241m=\u001b[39m torch\u001b[38;5;241m.\u001b[39mexp(reward_1) \u001b[38;5;241m/\u001b[39m (torch\u001b[38;5;241m.\u001b[39mexp(reward_1) \u001b[38;5;241m+\u001b[39m torch\u001b[38;5;241m.\u001b[39mexp(reward_2))\n",
      "\u001b[1;31mTypeError\u001b[0m: new() received an invalid combination of arguments - got (int, requires_grad=bool), but expected one of:\n * (*, torch.device device)\n      didn't match because some of the keywords were incorrect: requires_grad\n * (torch.Storage storage)\n * (Tensor other)\n * (tuple of ints size, *, torch.device device)\n * (object data, *, torch.device device)\n"
     ]
    }
   ],
   "source": [
    "preference_update(states, actions, rewarder)"
   ]
  },
  {
   "cell_type": "code",
   "execution_count": 120,
   "id": "4049a60a",
   "metadata": {},
   "outputs": [
    {
     "data": {
      "text/plain": [
       "tensor([ 1., 10.,  2.,  3.])"
      ]
     },
     "execution_count": 120,
     "metadata": {},
     "output_type": "execute_result"
    }
   ],
   "source": [
    "states[transition_idx[0]][0]"
   ]
  },
  {
   "cell_type": "code",
   "execution_count": 124,
   "id": "876fb32e",
   "metadata": {},
   "outputs": [
    {
     "name": "stdout",
     "output_type": "stream",
     "text": [
      "<class 'torch.Tensor'>\n"
     ]
    }
   ],
   "source": [
    "reward_1 = torch.Tensor(rewarder((states[transition_idx[0]][0]).reshape(1,4)))\n",
    "print(type(reward_1))"
   ]
  },
  {
   "cell_type": "code",
   "execution_count": 151,
   "id": "cc52552c",
   "metadata": {},
   "outputs": [],
   "source": [
    "# here states ref to a lot of differents states\n",
    "def preference_update( states, actions, rewarder):\n",
    "    transition_idx = random.sample(range(len(states)),2)\n",
    "    #transition_samples = [states[transition_idx[0]], states[transition_idx[1]]]\n",
    "\n",
    "    compare(transition_idx, states, actions)\n",
    "    pref = input (' select preference a:left, d:right, s:same ')\n",
    "    if pref == 'a':\n",
    "        dist = [ 1, 0 ]\n",
    "    if pref == 'd':\n",
    "        dist = [ 0, 1 ]\n",
    "    if pref == 's':\n",
    "        dist = [ 1, 1 ]\n",
    "        \n",
    "    # stuff gradient\n",
    "    reward_1 = torch.Tensor(rewarder((states[transition_idx[0]][0]).reshape(1,4)), requires_grad=True)\n",
    "    reward_2 = torch.Tensor(rewarder((states[transition_idx[1]][0]).reshape(1,4)), requires_grad=True)\n",
    "    p1 = torch.exp(reward_1) / (torch.exp(reward_1) + torch.exp(reward_2))\n",
    "    p2 = torch.exp(reward_2) / (torch.exp(reward_1) + torch.exp(reward_2))\n",
    "    loss = - ( p1*dist[0] + p2*dist[1] )\n",
    "    # rewarder.rewarder_net.zero_grad()\n",
    "    optimizer_rewarder.zero_grad()\n",
    "    loss.backward()\n",
    "    optimizer_rewarder.step()   "
   ]
  },
  {
   "cell_type": "code",
   "execution_count": 170,
   "id": "2689e78e",
   "metadata": {},
   "outputs": [],
   "source": [
    "dist = [1, 0]\n",
    "reward_1 = torch.Tensor([rewarder((states[transition_idx[0]][0]).reshape(1,4))]).requires_grad_()\n",
    "reward_2 = torch.Tensor([rewarder((states[transition_idx[1]][0]).reshape(1,4))]).requires_grad_()\n",
    "p1 = torch.exp(reward_1) / (torch.exp(reward_1) + torch.exp(reward_2))\n",
    "p2 = torch.exp(reward_2) / (torch.exp(reward_1) + torch.exp(reward_2))\n",
    "loss = - ( p1*dist[0] + p2*dist[1] )\n",
    "optimizer_rewarder.zero_grad()\n",
    "loss.backward()\n",
    "optimizer_rewarder.step()"
   ]
  },
  {
   "cell_type": "code",
   "execution_count": 171,
   "id": "0fed3ec8",
   "metadata": {},
   "outputs": [
    {
     "data": {
      "text/plain": [
       "tensor([-0.0116,  0.4717,  0.2444, -0.3736], grad_fn=<SelectBackward0>)"
      ]
     },
     "execution_count": 171,
     "metadata": {},
     "output_type": "execute_result"
    }
   ],
   "source": [
    "rewarder.rewarder_net[0].weight[0]"
   ]
  },
  {
   "cell_type": "code",
   "execution_count": 157,
   "id": "4f93ae5c",
   "metadata": {},
   "outputs": [
    {
     "name": "stdout",
     "output_type": "stream",
     "text": [
      "<class 'torch.Tensor'>\n"
     ]
    }
   ],
   "source": [
    "print(type(loss))"
   ]
  },
  {
   "cell_type": "code",
   "execution_count": 161,
   "id": "ae04b21c",
   "metadata": {},
   "outputs": [
    {
     "data": {
      "text/plain": [
       "0"
      ]
     },
     "execution_count": 161,
     "metadata": {},
     "output_type": "execute_result"
    }
   ],
   "source": [
    "rewarder((states[transition_idx[0]][0]).reshape(1,4))"
   ]
  },
  {
   "cell_type": "code",
   "execution_count": 158,
   "id": "d7a9e15a",
   "metadata": {},
   "outputs": [
    {
     "data": {
      "text/plain": [
       "tensor([-0.5000], grad_fn=<NegBackward0>)"
      ]
     },
     "execution_count": 158,
     "metadata": {},
     "output_type": "execute_result"
    }
   ],
   "source": [
    "loss"
   ]
  },
  {
   "cell_type": "code",
   "execution_count": 115,
   "id": "5134ec7e",
   "metadata": {},
   "outputs": [],
   "source": [
    "def compare(transition_idx, mystates, actions):\n",
    "    states = 0\n",
    "    d1xs = [mystates[transition_idx[0]][0][0], mystates[transition_idx[0]][0][2]]\n",
    "    d1ys = [mystates[transition_idx[0]][0][1], mystates[transition_idx[0]][0][3]]\n",
    "    d2xs = [mystates[transition_idx[1]][0][0], mystates[transition_idx[1]][0][2]]\n",
    "    d2ys = [mystates[transition_idx[1]][0][1], mystates[transition_idx[1]][0][3]]\n",
    "\n",
    "    fig, ax = plt.subplots(1,2, figsize=(4, 2))\n",
    "    colors = ['yellow','green']\n",
    "    color_indices = [0, 1, ]\n",
    "    colormap = matplotlib.colors.ListedColormap(colors)\n",
    "    ax[0].scatter(d1xs, d1ys, c=color_indices, cmap=colormap)\n",
    "    ax[0].set_title(str(decode_action(actions[transition_idx[0]].numpy())))\n",
    "    ax[1].scatter(d2xs, d2ys, c=color_indices, cmap=colormap)\n",
    "    ax[1].set_title(str(decode_action(actions[transition_idx[1]].numpy())))\n",
    "    plt.show()"
   ]
  },
  {
   "cell_type": "code",
   "execution_count": 108,
   "id": "f01b53e3",
   "metadata": {},
   "outputs": [],
   "source": [
    "def decode_action(action):\n",
    "    if action == 0:\n",
    "        return 'up'\n",
    "    if action == 1:\n",
    "        return 'right'\n",
    "    if action == 2:\n",
    "        return 'down'\n",
    "    if action == 3:\n",
    "        return 'left'        "
   ]
  },
  {
   "cell_type": "code",
   "execution_count": null,
   "id": "77c9e1a1",
   "metadata": {},
   "outputs": [],
   "source": [
    "def calc_g(reward_trajectory, gamma):\n",
    "    ez_discount = np.array([ gamma**n for n in range(len(reward_trajectory))])\n",
    "    gs = []\n",
    "    reward_trajectory = np.array(reward_trajectory)\n",
    "    for ts in range(len(reward_trajectory)):\n",
    "        to_end_rewards = reward_trajectory[ts:]\n",
    "        eq_len_discount = ez_discount[:len(reward_trajectory[ts:])]\n",
    "        total_value = np.multiply(to_end_rewards, eq_len_discount)\n",
    "        g = sum(total_value)\n",
    "        gs.append(g)\n",
    "    return gs   "
   ]
  },
  {
   "cell_type": "code",
   "execution_count": null,
   "id": "ad4d979b",
   "metadata": {},
   "outputs": [],
   "source": [
    "for episode in range(5000):\n",
    "    action_probs, rewards, states ,actions = step_episode (env, agent)\n",
    "    loss = actor_loss (action_probs ,rewards)"
   ]
  },
  {
   "cell_type": "code",
   "execution_count": null,
   "id": "3858fa64",
   "metadata": {},
   "outputs": [],
   "source": [
    "# Define your reward model architecture\n",
    "class RewardModel(nn.Module):\n",
    "    def __init__(self):\n",
    "        super(RewardModel, self).__init__()\n",
    "        self.fc1 = nn.Linear(4, 32)\n",
    "        self.fc2 = nn.Linear(32, 16)\n",
    "        self.fc3 = nn.Linear(16, 1)\n",
    "\n",
    "    def forward(self, x):\n",
    "        x = F.relu(self.fc1(x))\n",
    "        x = F.relu(self.fc2(x))\n",
    "        x = self.fc3(x)\n",
    "        return x\n",
    "\n",
    "# Instantiate the reward model and define the optimizer\n",
    "reward_model = RewardModel()\n",
    "optimizer = optim.Adam(reward_model.parameters(), lr=0.001)\n",
    "\n",
    "# Define the loss function\n",
    "def preference_loss(reward_1, reward_2, dist):\n",
    "    p1 = torch.exp(reward_1) / (torch.exp(reward_1) + torch.exp(reward_2))\n",
    "    p2 = torch.exp(reward_2) / (torch.exp(reward_1) + torch.exp(reward_2))\n",
    "    loss = - (p1*dist[0] + p2*dist[1])\n",
    "    return loss\n",
    "\n",
    "# Collect the human preference data and store it in a list\n",
    "preference_data = [(state_1, state_2, distance), (state_3, state_4, distance)]\n",
    "\n",
    "# Perform backpropagation on the reward model using the human preference data\n",
    "for state_pair, dist in preference_data:\n",
    "    state_1, state_2 = state_pair[0], state_pair[1]\n",
    "\n",
    "    # Calculate the rewards for the two states in the pair\n",
    "    reward_1 = reward_model(state_1)\n",
    "    reward_2 = reward_model(state_2)\n",
    "\n",
    "    # Compute the loss and perform backpropagation\n",
    "    loss = preference_loss(reward_1, reward_2, dist)\n",
    "    optimizer.zero_grad()\n",
    "    loss.backward()\n",
    "    optimizer.step()"
   ]
  }
 ],
 "metadata": {
  "kernelspec": {
   "display_name": "Python 3 (ipykernel)",
   "language": "python",
   "name": "python3"
  },
  "language_info": {
   "codemirror_mode": {
    "name": "ipython",
    "version": 3
   },
   "file_extension": ".py",
   "mimetype": "text/x-python",
   "name": "python",
   "nbconvert_exporter": "python",
   "pygments_lexer": "ipython3",
   "version": "3.8.16"
  }
 },
 "nbformat": 4,
 "nbformat_minor": 5
}
